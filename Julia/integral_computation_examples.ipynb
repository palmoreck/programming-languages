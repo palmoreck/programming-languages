{
 "cells": [
  {
   "cell_type": "code",
   "execution_count": 2,
   "metadata": {},
   "outputs": [
    {
     "data": {
      "text/plain": [
       "Rcf (generic function with 1 method)"
      ]
     },
     "execution_count": 2,
     "metadata": {},
     "output_type": "execute_result"
    }
   ],
   "source": [
    "function Rcf(f, a, b, n)\n",
    "    h_hat = (b-a)/n\n",
    "    sum_res = 0\n",
    "    for i in 0:n-1\n",
    "        x = a + (i + 1/2)*h_hat\n",
    "        sum_res += f(x)\n",
    "    end    \n",
    "    return h_hat*sum_res\n",
    "end"
   ]
  },
  {
   "cell_type": "code",
   "execution_count": 3,
   "metadata": {},
   "outputs": [
    {
     "data": {
      "text/plain": [
       "main (generic function with 1 method)"
      ]
     },
     "execution_count": 3,
     "metadata": {},
     "output_type": "execute_result"
    }
   ],
   "source": [
    "function main()\n",
    "    a = 0\n",
    "    b = 1\n",
    "    n =10^2\n",
    "    f(x) = exp(-x^2)\n",
    "    @time Rcf(f, a, b, n)\n",
    "end"
   ]
  },
  {
   "cell_type": "code",
   "execution_count": 4,
   "metadata": {},
   "outputs": [
    {
     "name": "stdout",
     "output_type": "stream",
     "text": [
      "  0.000008 seconds\n"
     ]
    },
    {
     "data": {
      "text/plain": [
       "0.7468271984923199"
      ]
     },
     "execution_count": 4,
     "metadata": {},
     "output_type": "execute_result"
    }
   ],
   "source": [
    "main()"
   ]
  },
  {
   "cell_type": "code",
   "execution_count": 5,
   "metadata": {},
   "outputs": [
    {
     "name": "stdout",
     "output_type": "stream",
     "text": [
      "  0.000006 seconds\n"
     ]
    },
    {
     "data": {
      "text/plain": [
       "0.7468271984923199"
      ]
     },
     "execution_count": 5,
     "metadata": {},
     "output_type": "execute_result"
    }
   ],
   "source": [
    "main()"
   ]
  },
  {
   "cell_type": "code",
   "execution_count": 6,
   "metadata": {},
   "outputs": [
    {
     "data": {
      "text/plain": [
       "Rcf (generic function with 1 method)"
      ]
     },
     "execution_count": 6,
     "metadata": {},
     "output_type": "execute_result"
    }
   ],
   "source": [
    "function Rcf(f, a, b, n)\n",
    "    h_hat = ((b-a)/n)::Float64\n",
    "    sum_res = 0.0\n",
    "    for i in 0:n-1\n",
    "        x = a + (i + 1/2)*h_hat\n",
    "        sum_res += f(x)\n",
    "    end    \n",
    "    return h_hat*sum_res\n",
    "end"
   ]
  },
  {
   "cell_type": "code",
   "execution_count": 7,
   "metadata": {},
   "outputs": [
    {
     "data": {
      "text/plain": [
       "main (generic function with 1 method)"
      ]
     },
     "execution_count": 7,
     "metadata": {},
     "output_type": "execute_result"
    }
   ],
   "source": [
    "function main()\n",
    "    a = 0\n",
    "    b = 1\n",
    "    n =10^2\n",
    "    f(x) = exp(-x^2)::Float64\n",
    "    @time Rcf(f, a, b, n)\n",
    "end"
   ]
  },
  {
   "cell_type": "code",
   "execution_count": 8,
   "metadata": {},
   "outputs": [
    {
     "name": "stdout",
     "output_type": "stream",
     "text": [
      "  0.000009 seconds\n"
     ]
    },
    {
     "data": {
      "text/plain": [
       "0.7468271984923199"
      ]
     },
     "execution_count": 8,
     "metadata": {},
     "output_type": "execute_result"
    }
   ],
   "source": [
    "main()"
   ]
  },
  {
   "cell_type": "code",
   "execution_count": 9,
   "metadata": {},
   "outputs": [
    {
     "name": "stdout",
     "output_type": "stream",
     "text": [
      "  0.000004 seconds\n"
     ]
    },
    {
     "data": {
      "text/plain": [
       "0.7468271984923199"
      ]
     },
     "execution_count": 9,
     "metadata": {},
     "output_type": "execute_result"
    }
   ],
   "source": [
    "main()"
   ]
  },
  {
   "cell_type": "code",
   "execution_count": 10,
   "metadata": {},
   "outputs": [
    {
     "name": "stdout",
     "output_type": "stream",
     "text": [
      "  0.000007 seconds\n"
     ]
    },
    {
     "data": {
      "text/plain": [
       "0.7468271984923199"
      ]
     },
     "execution_count": 10,
     "metadata": {},
     "output_type": "execute_result"
    }
   ],
   "source": [
    "main()"
   ]
  },
  {
   "cell_type": "code",
   "execution_count": 8,
   "metadata": {},
   "outputs": [
    {
     "name": "stdout",
     "output_type": "stream",
     "text": [
      "Overwriting Rcf_julia.jl\n"
     ]
    }
   ],
   "source": [
    "%%file Rcf_julia.jl\n",
    "function Rcf(f, a, b, n)\n",
    "    h_hat = (b-a)/n\n",
    "    sum_res = 0\n",
    "    for i in 0:n-1\n",
    "        x = a + (i + 1/2)*h_hat\n",
    "        sum_res += f(x)\n",
    "    end    \n",
    "    return h_hat*sum_res\n",
    "end\n",
    "function main()\n",
    "    a = 0\n",
    "    b = 1\n",
    "    n =10^2\n",
    "    f(x) = exp(-x^2)\n",
    "    @time Rcf(f, a, b, n)\n",
    "    @time Rcf(f, a, b, n)\n",
    "end\n",
    "\n",
    "main()"
   ]
  },
  {
   "cell_type": "code",
   "execution_count": 9,
   "metadata": {},
   "outputs": [
    {
     "name": "stdout",
     "output_type": "stream",
     "text": [
      "  0.000006 seconds\n",
      "  0.000006 seconds\n"
     ]
    }
   ],
   "source": [
    "%%bash\n",
    "/usr/local/julia/bin/julia Rcf_julia.jl"
   ]
  },
  {
   "cell_type": "code",
   "execution_count": 13,
   "metadata": {},
   "outputs": [
    {
     "name": "stdout",
     "output_type": "stream",
     "text": [
      "Overwriting Rcf_julia_typed_values.jl\n"
     ]
    }
   ],
   "source": [
    "%%file Rcf_julia_typed_values.jl\n",
    "\n",
    "function Rcf(f, a, b, n)\n",
    "    h_hat = (b-a)/n\n",
    "    sum_res = 0.0\n",
    "    for i in 0:(n-1::Int64)\n",
    "        x = a + (i + 1/2)*h_hat\n",
    "        sum_res += f(x)\n",
    "    end    \n",
    "    return h_hat*sum_res\n",
    "end\n",
    "function main()\n",
    "    a = 0\n",
    "    b = 1\n",
    "    n =10^2\n",
    "    f(x) = exp(-x^2)::Float64\n",
    "    @time Rcf(f, a, b, n)\n",
    "    @time Rcf(f, a, b, n)    \n",
    "end\n",
    "\n",
    "main()"
   ]
  },
  {
   "cell_type": "code",
   "execution_count": 14,
   "metadata": {},
   "outputs": [
    {
     "name": "stdout",
     "output_type": "stream",
     "text": [
      "  0.000008 seconds\n",
      "  0.000006 seconds\n"
     ]
    }
   ],
   "source": [
    "%%bash\n",
    "/usr/local/julia/bin/julia Rcf_julia_typed_values.jl"
   ]
  },
  {
   "cell_type": "code",
   "execution_count": null,
   "metadata": {},
   "outputs": [],
   "source": []
  },
  {
   "cell_type": "code",
   "execution_count": null,
   "metadata": {},
   "outputs": [],
   "source": []
  },
  {
   "cell_type": "code",
   "execution_count": 1,
   "metadata": {},
   "outputs": [
    {
     "data": {
      "text/plain": [
       "1"
      ]
     },
     "execution_count": 1,
     "metadata": {},
     "output_type": "execute_result"
    }
   ],
   "source": [
    "const a = 1"
   ]
  },
  {
   "cell_type": "code",
   "execution_count": 2,
   "metadata": {},
   "outputs": [
    {
     "data": {
      "text/plain": [
       "100"
      ]
     },
     "execution_count": 2,
     "metadata": {},
     "output_type": "execute_result"
    }
   ],
   "source": [
    "n = 10^2"
   ]
  },
  {
   "cell_type": "code",
   "execution_count": 3,
   "metadata": {},
   "outputs": [
    {
     "data": {
      "text/plain": [
       "Int64"
      ]
     },
     "execution_count": 3,
     "metadata": {},
     "output_type": "execute_result"
    }
   ],
   "source": [
    "typeof(n)"
   ]
  },
  {
   "cell_type": "code",
   "execution_count": null,
   "metadata": {},
   "outputs": [],
   "source": []
  },
  {
   "cell_type": "markdown",
   "metadata": {},
   "source": [
    "# Check why differs with /usr/bin/time"
   ]
  },
  {
   "cell_type": "markdown",
   "metadata": {},
   "source": [
    "Next test using `m4.16xlarge` AWS instance and julia-1.6.0"
   ]
  },
  {
   "cell_type": "code",
   "execution_count": 1,
   "metadata": {},
   "outputs": [
    {
     "name": "stdout",
     "output_type": "stream",
     "text": [
      "Writing Rcf_julia_1.jl\n"
     ]
    }
   ],
   "source": [
    "%%file Rcf_julia_1.jl\n",
    "function Rcf(f, a, b, n)\n",
    "    h_hat = (b-a)/n\n",
    "    sum_res = 0\n",
    "    for i in 0:n-1\n",
    "        x = a + (i + 1/2)*h_hat\n",
    "        sum_res += f(x)\n",
    "    end    \n",
    "    return h_hat*sum_res\n",
    "end\n",
    "function main()\n",
    "    a = 0\n",
    "    b = 1\n",
    "    n =10^7\n",
    "    f(x) = exp(-x^2)\n",
    "    @time Rcf(f, a, b, n)\n",
    "    @time Rcf(f, a, b, n)\n",
    "end\n",
    "\n",
    "main()"
   ]
  },
  {
   "cell_type": "code",
   "execution_count": 2,
   "metadata": {},
   "outputs": [
    {
     "name": "stdout",
     "output_type": "stream",
     "text": [
      "  0.228429 seconds\n",
      "  0.229397 seconds\n"
     ]
    }
   ],
   "source": [
    "%%bash\n",
    "/usr/local/julia-1.6.0/bin/julia Rcf_julia_1.jl"
   ]
  },
  {
   "cell_type": "code",
   "execution_count": 4,
   "metadata": {},
   "outputs": [
    {
     "name": "stdout",
     "output_type": "stream",
     "text": [
      "  0.230426 seconds\n",
      "  0.231500 seconds\n"
     ]
    },
    {
     "name": "stderr",
     "output_type": "stream",
     "text": [
      "real 0.72\n",
      "user 1.05\n",
      "sys 0.49\n"
     ]
    }
   ],
   "source": [
    "%%bash\n",
    "/usr/bin/time -p /usr/local/julia-1.6.0/bin/julia Rcf_julia_1.jl"
   ]
  },
  {
   "cell_type": "code",
   "execution_count": 7,
   "metadata": {},
   "outputs": [
    {
     "name": "stdout",
     "output_type": "stream",
     "text": [
      "Writing Rcf_julia_typed_values_1.jl\n"
     ]
    }
   ],
   "source": [
    "%%file Rcf_julia_typed_values_1.jl\n",
    "\n",
    "function Rcf(f, a, b, n)\n",
    "    h_hat = (b-a)/n\n",
    "    sum_res = 0.0\n",
    "    for i in 0:(n-1::Int64)\n",
    "        x = a + (i + 1/2)*h_hat\n",
    "        sum_res += f(x)\n",
    "    end    \n",
    "    return h_hat*sum_res\n",
    "end\n",
    "function main()\n",
    "    a = 0\n",
    "    b = 1\n",
    "    n =10^7\n",
    "    f(x) = exp(-x^2)::Float64\n",
    "    @time Rcf(f, a, b, n)\n",
    "    @time Rcf(f, a, b, n)    \n",
    "end\n",
    "\n",
    "main()"
   ]
  },
  {
   "cell_type": "code",
   "execution_count": 8,
   "metadata": {},
   "outputs": [
    {
     "name": "stdout",
     "output_type": "stream",
     "text": [
      "  0.093119 seconds\n",
      "  0.093690 seconds\n"
     ]
    }
   ],
   "source": [
    "%%bash\n",
    "/usr/local/julia-1.6.0/bin/julia Rcf_julia_typed_values_1.jl"
   ]
  },
  {
   "cell_type": "code",
   "execution_count": 9,
   "metadata": {},
   "outputs": [
    {
     "name": "stdout",
     "output_type": "stream",
     "text": [
      "  0.093583 seconds\n",
      "  0.093749 seconds\n"
     ]
    },
    {
     "name": "stderr",
     "output_type": "stream",
     "text": [
      "real 0.45\n",
      "user 0.76\n",
      "sys 0.50\n"
     ]
    }
   ],
   "source": [
    "%%bash\n",
    "/usr/bin/time -p /usr/local/julia-1.6.0/bin/julia Rcf_julia_typed_values_1.jl"
   ]
  },
  {
   "cell_type": "markdown",
   "metadata": {},
   "source": [
    "## Another run"
   ]
  },
  {
   "cell_type": "code",
   "execution_count": 10,
   "metadata": {},
   "outputs": [
    {
     "name": "stdout",
     "output_type": "stream",
     "text": [
      "Writing Rcf_julia_typed_values_2.jl\n"
     ]
    }
   ],
   "source": [
    "%%file Rcf_julia_typed_values_2.jl\n",
    "\n",
    "function Rcf(f, a, b, n)\n",
    "    h_hat = (b-a)/n\n",
    "    sum_res = 0.0\n",
    "    for i in 0:(n-1::Int64)\n",
    "        x = a + (i + 1/2)*h_hat\n",
    "        sum_res += f(x)\n",
    "    end    \n",
    "    return h_hat*sum_res\n",
    "end\n",
    "function main()\n",
    "    a = 0\n",
    "    b = 1\n",
    "    n =10^7\n",
    "    f(x) = exp(-x^2)\n",
    "    @time Rcf(f, a, b, n)\n",
    "    @time Rcf(f, a, b, n)    \n",
    "end\n",
    "\n",
    "main()"
   ]
  },
  {
   "cell_type": "code",
   "execution_count": 11,
   "metadata": {},
   "outputs": [
    {
     "name": "stdout",
     "output_type": "stream",
     "text": [
      "  0.093105 seconds\n",
      "  0.093650 seconds\n"
     ]
    }
   ],
   "source": [
    "%%bash\n",
    "/usr/local/julia-1.6.0/bin/julia Rcf_julia_typed_values_2.jl"
   ]
  },
  {
   "cell_type": "code",
   "execution_count": 12,
   "metadata": {},
   "outputs": [
    {
     "name": "stdout",
     "output_type": "stream",
     "text": [
      "  0.093621 seconds\n",
      "  0.094352 seconds\n"
     ]
    },
    {
     "name": "stderr",
     "output_type": "stream",
     "text": [
      "real 0.44\n",
      "user 0.76\n",
      "sys 0.50\n"
     ]
    }
   ],
   "source": [
    "%%bash\n",
    "/usr/bin/time -p /usr/local/julia-1.6.0/bin/julia Rcf_julia_typed_values_2.jl"
   ]
  },
  {
   "cell_type": "markdown",
   "metadata": {},
   "source": [
    "## Another run"
   ]
  },
  {
   "cell_type": "code",
   "execution_count": 13,
   "metadata": {},
   "outputs": [
    {
     "name": "stdout",
     "output_type": "stream",
     "text": [
      "Writing Rcf_julia_typed_values_3.jl\n"
     ]
    }
   ],
   "source": [
    "%%file Rcf_julia_typed_values_3.jl\n",
    "\n",
    "function Rcf(f, a, b, n)\n",
    "    h_hat = (b-a)/n\n",
    "    sum_res = 0.0\n",
    "    for i in 0:n-1\n",
    "        x = a + (i + 1/2)*h_hat\n",
    "        sum_res += f(x)\n",
    "    end    \n",
    "    return h_hat*sum_res\n",
    "end\n",
    "function main()\n",
    "    a = 0\n",
    "    b = 1\n",
    "    n =10^7\n",
    "    f(x) = exp(-x^2)\n",
    "    @time Rcf(f, a, b, n)\n",
    "    @time Rcf(f, a, b, n)    \n",
    "end\n",
    "\n",
    "main()"
   ]
  },
  {
   "cell_type": "code",
   "execution_count": 14,
   "metadata": {},
   "outputs": [
    {
     "name": "stdout",
     "output_type": "stream",
     "text": [
      "  0.093594 seconds\n",
      "  0.094333 seconds\n"
     ]
    }
   ],
   "source": [
    "%%bash\n",
    "/usr/local/julia-1.6.0/bin/julia Rcf_julia_typed_values_3.jl"
   ]
  },
  {
   "cell_type": "code",
   "execution_count": 15,
   "metadata": {},
   "outputs": [
    {
     "name": "stdout",
     "output_type": "stream",
     "text": [
      "  0.093944 seconds\n",
      "  0.094970 seconds\n"
     ]
    },
    {
     "name": "stderr",
     "output_type": "stream",
     "text": [
      "real 0.45\n",
      "user 0.78\n",
      "sys 0.48\n"
     ]
    }
   ],
   "source": [
    "%%bash\n",
    "/usr/bin/time -p /usr/local/julia-1.6.0/bin/julia Rcf_julia_typed_values_3.jl"
   ]
  },
  {
   "cell_type": "markdown",
   "metadata": {},
   "source": [
    "## Another run"
   ]
  },
  {
   "cell_type": "code",
   "execution_count": 16,
   "metadata": {},
   "outputs": [
    {
     "name": "stdout",
     "output_type": "stream",
     "text": [
      "Writing Rcf_julia_typed_values_4.jl\n"
     ]
    }
   ],
   "source": [
    "%%file Rcf_julia_typed_values_4.jl\n",
    "\n",
    "function Rcf(f, a, b, n)\n",
    "    h_hat = (b-a)/n\n",
    "    sum_res = 0.0\n",
    "    for i in 0:n-1\n",
    "        x = a + (i + 1/2.0)*h_hat\n",
    "        sum_res += f(x)\n",
    "    end    \n",
    "    return h_hat*sum_res\n",
    "end\n",
    "function main()\n",
    "    a = 0\n",
    "    b = 1\n",
    "    n =10^7\n",
    "    f(x) = exp(-x^2)\n",
    "    @time Rcf(f, a, b, n)\n",
    "    @time Rcf(f, a, b, n)    \n",
    "end\n",
    "\n",
    "main()"
   ]
  },
  {
   "cell_type": "code",
   "execution_count": 17,
   "metadata": {},
   "outputs": [
    {
     "name": "stdout",
     "output_type": "stream",
     "text": [
      "  0.093708 seconds\n",
      "  0.094243 seconds\n"
     ]
    }
   ],
   "source": [
    "%%bash\n",
    "/usr/local/julia-1.6.0/bin/julia Rcf_julia_typed_values_4.jl"
   ]
  },
  {
   "cell_type": "code",
   "execution_count": 18,
   "metadata": {},
   "outputs": [
    {
     "name": "stdout",
     "output_type": "stream",
     "text": [
      "  0.093332 seconds\n",
      "  0.094200 seconds\n"
     ]
    },
    {
     "name": "stderr",
     "output_type": "stream",
     "text": [
      "real 0.44\n",
      "user 0.72\n",
      "sys 0.54\n"
     ]
    }
   ],
   "source": [
    "%%bash\n",
    "/usr/bin/time -p /usr/local/julia-1.6.0/bin/julia Rcf_julia_typed_values_4.jl"
   ]
  },
  {
   "cell_type": "markdown",
   "metadata": {},
   "source": [
    "## Examples selected:"
   ]
  },
  {
   "cell_type": "code",
   "execution_count": 25,
   "metadata": {},
   "outputs": [
    {
     "name": "stdout",
     "output_type": "stream",
     "text": [
      "Overwriting Rcf_julia.jl\n"
     ]
    }
   ],
   "source": [
    "%%file Rcf_julia.jl\n",
    "function Rcf(f, a, b, n)\n",
    "    h_hat = (b-a)/n\n",
    "    sum_res = 0\n",
    "    for i in 0:n-1\n",
    "        x = a + (i + 1/2)*h_hat\n",
    "        sum_res += f(x)\n",
    "    end    \n",
    "    return h_hat*sum_res\n",
    "end\n",
    "function main()\n",
    "    a = 0\n",
    "    b = 1\n",
    "    n =10^7\n",
    "    f(x) = exp(-x^2)\n",
    "    @time Rcf(f, a, b, n)\n",
    "    @time Rcf(f, a, b, n)\n",
    "end\n",
    "\n",
    "main()"
   ]
  },
  {
   "cell_type": "code",
   "execution_count": 26,
   "metadata": {},
   "outputs": [
    {
     "name": "stdout",
     "output_type": "stream",
     "text": [
      "  0.231003 seconds\n",
      "  0.231190 seconds\n"
     ]
    }
   ],
   "source": [
    "%%bash\n",
    "/usr/local/julia-1.6.0/bin/julia Rcf_julia.jl"
   ]
  },
  {
   "cell_type": "code",
   "execution_count": 27,
   "metadata": {},
   "outputs": [
    {
     "name": "stdout",
     "output_type": "stream",
     "text": [
      "  0.230214 seconds\n",
      "  0.231215 seconds\n"
     ]
    },
    {
     "name": "stderr",
     "output_type": "stream",
     "text": [
      "real 0.72\n",
      "user 1.05\n",
      "sys 0.49\n"
     ]
    }
   ],
   "source": [
    "%%bash\n",
    "/usr/bin/time -p /usr/local/julia-1.6.0/bin/julia Rcf_julia.jl"
   ]
  },
  {
   "cell_type": "code",
   "execution_count": 28,
   "metadata": {},
   "outputs": [
    {
     "name": "stdout",
     "output_type": "stream",
     "text": [
      "Overwriting Rcf_julia_typed_values.jl\n"
     ]
    }
   ],
   "source": [
    "%%file Rcf_julia_typed_values.jl\n",
    "\n",
    "function Rcf(f, a, b, n)\n",
    "    h_hat = (b-a)/n\n",
    "    sum_res = 0.0\n",
    "    for i in 0:n-1\n",
    "        x = a + (i + 1/2)*h_hat\n",
    "        sum_res += f(x)\n",
    "    end    \n",
    "    return h_hat*sum_res\n",
    "end\n",
    "function main()\n",
    "    a = 0\n",
    "    b = 1\n",
    "    n =10^7\n",
    "    f(x) = exp(-x^2)\n",
    "    @time Rcf(f, a, b, n)\n",
    "    @time Rcf(f, a, b, n)    \n",
    "end\n",
    "\n",
    "main()"
   ]
  },
  {
   "cell_type": "code",
   "execution_count": 29,
   "metadata": {},
   "outputs": [
    {
     "name": "stdout",
     "output_type": "stream",
     "text": [
      "  0.093715 seconds\n",
      "  0.094805 seconds\n"
     ]
    }
   ],
   "source": [
    "%%bash\n",
    "/usr/local/julia-1.6.0/bin/julia Rcf_julia_typed_values.jl"
   ]
  },
  {
   "cell_type": "code",
   "execution_count": 30,
   "metadata": {},
   "outputs": [
    {
     "name": "stdout",
     "output_type": "stream",
     "text": [
      "  0.093071 seconds\n",
      "  0.093278 seconds\n"
     ]
    },
    {
     "name": "stderr",
     "output_type": "stream",
     "text": [
      "real 0.44\n",
      "user 0.74\n",
      "sys 0.51\n"
     ]
    }
   ],
   "source": [
    "%%bash\n",
    "/usr/bin/time -p /usr/local/julia-1.6.0/bin/julia Rcf_julia_typed_values.jl"
   ]
  },
  {
   "cell_type": "markdown",
   "metadata": {},
   "source": [
    "# Check why differs with /usr/bin/time"
   ]
  },
  {
   "cell_type": "markdown",
   "metadata": {},
   "source": [
    "Next test using `m4.16xlarge` AWS instance and julia-1.6.0"
   ]
  },
  {
   "cell_type": "code",
   "execution_count": 1,
   "metadata": {},
   "outputs": [
    {
     "name": "stdout",
     "output_type": "stream",
     "text": [
      "Writing Rcf_python.py\n"
     ]
    }
   ],
   "source": [
    "%%file Rcf_python.py\n",
    "import math\n",
    "import time\n",
    "def Rcf(f,a,b,n): #Rcf: rectángulo compuesto para f\n",
    "    \"\"\"\n",
    "    Compute numerical approximation using rectangle or mid-point\n",
    "    method in an interval.\n",
    "    Nodes are generated via formula: x_i = a+(i+1/2)h_hat for\n",
    "    i=0,1,...,n-1 and h_hat=(b-a)/n\n",
    "    Args:\n",
    "    \n",
    "        f (float): function expression of integrand.\n",
    "        \n",
    "        a (float): left point of interval.\n",
    "        \n",
    "        b (float): right point of interval.\n",
    "        \n",
    "        n (float): number of subintervals.\n",
    "        \n",
    "    Returns:\n",
    "    \n",
    "        sum_res (float): numerical approximation to integral\n",
    "            of f in the interval a,b\n",
    "    \"\"\"\n",
    "    h_hat = (b-a)/n\n",
    "    sum_res = 0\n",
    "    for i in range(n):\n",
    "        x = a + (i + 1/2)*h_hat\n",
    "        sum_res += f(x)\n",
    "    return h_hat*sum_res\n",
    "\n",
    "if __name__ == \"__main__\":   \n",
    "    n = 10**7\n",
    "    f = lambda x: math.exp(-x**2)\n",
    "    a = 0\n",
    "    b = 1\n",
    "    start_time = time.time()\n",
    "    res = Rcf(f,a,b,n)\n",
    "    end_time = time.time()\n",
    "    secs = end_time-start_time\n",
    "    print(\"Rcf tomó\", secs, \"segundos\" )"
   ]
  },
  {
   "cell_type": "code",
   "execution_count": 2,
   "metadata": {},
   "outputs": [
    {
     "name": "stdout",
     "output_type": "stream",
     "text": [
      "Rcf tomó 3.391819477081299 segundos\n"
     ]
    }
   ],
   "source": [
    "%%bash\n",
    "python3 Rcf_python.py"
   ]
  },
  {
   "cell_type": "code",
   "execution_count": 3,
   "metadata": {},
   "outputs": [
    {
     "name": "stdout",
     "output_type": "stream",
     "text": [
      "Rcf tomó 3.383064031600952 segundos\n"
     ]
    },
    {
     "name": "stderr",
     "output_type": "stream",
     "text": [
      "real 3.40\n",
      "user 3.39\n",
      "sys 0.01\n"
     ]
    }
   ],
   "source": [
    "%%bash\n",
    "/usr/bin/time -p python3 Rcf_python.py"
   ]
  },
  {
   "cell_type": "markdown",
   "metadata": {},
   "source": [
    "## C"
   ]
  },
  {
   "cell_type": "markdown",
   "metadata": {},
   "source": [
    "Para la medición de tiempos se utilizaron las ligas: [liga](https://stackoverflow.com/questions/16764276/measuring-time-in-millisecond-precision) y [liga2](https://www.techiedelight.com/find-execution-time-c-program/)."
   ]
  },
  {
   "cell_type": "code",
   "execution_count": 4,
   "metadata": {},
   "outputs": [
    {
     "name": "stdout",
     "output_type": "stream",
     "text": [
      "Writing Rcf_c.c\n"
     ]
    }
   ],
   "source": [
    "%%file Rcf_c.c\n",
    "#include<stdio.h>\n",
    "#include<stdlib.h>\n",
    "#include<math.h>\n",
    "#include<time.h>\n",
    "#include <sys/time.h>\n",
    "\n",
    "void Rcf(double ext_izq, double ext_der, int n,\\\n",
    "    double *suma_global_p);\n",
    "double f(double nodo);\n",
    "int main(int argc, char *argv[]){\n",
    "    double suma_global = 0.0;\n",
    "    double a = 0.0, b = 1.0;\n",
    "    int n = 1e7;\n",
    "    struct timeval start;\n",
    "    struct timeval end;\n",
    "    long seconds;\n",
    "    long long mili;\n",
    "    \n",
    "    gettimeofday(&start, NULL);\n",
    "    Rcf(a,b,n,&suma_global);\n",
    "    gettimeofday(&end, NULL);\n",
    "    seconds = (end.tv_sec - start.tv_sec);\n",
    "    mili = 1000*(seconds) + (end.tv_usec - start.tv_usec)/1000;    \n",
    "    printf(\"Tiempo de ejecución: %lld milisegundos\", mili);\n",
    "    \n",
    "    return 0;\n",
    "}\n",
    "void Rcf(double a, double b, int n, double *sum){\n",
    "    double h_hat = (b-a)/n;\n",
    "    double x = 0.0;\n",
    "    int i = 0;\n",
    "    *sum = 0.0;\n",
    "    for(i = 0; i <= n-1; i++){\n",
    "        x = a + (i + 1/2.0)*h_hat;\n",
    "        *sum += f(x);\n",
    "    }\n",
    "    *sum = h_hat*(*sum);\n",
    "}\n",
    "double f(double nodo){\n",
    "    double valor_f;\n",
    "    valor_f = exp(-pow(nodo,2));\n",
    "    return valor_f;\n",
    "}\n"
   ]
  },
  {
   "cell_type": "code",
   "execution_count": 5,
   "metadata": {},
   "outputs": [],
   "source": [
    "%%bash\n",
    "gcc -Wall Rcf_c.c -o Rcf_c.out -lm"
   ]
  },
  {
   "cell_type": "code",
   "execution_count": 6,
   "metadata": {},
   "outputs": [
    {
     "name": "stdout",
     "output_type": "stream",
     "text": [
      "Tiempo de ejecución: 484 milisegundos"
     ]
    }
   ],
   "source": [
    "%%bash\n",
    "./Rcf_c.out"
   ]
  },
  {
   "cell_type": "code",
   "execution_count": 7,
   "metadata": {},
   "outputs": [
    {
     "name": "stdout",
     "output_type": "stream",
     "text": [
      "Tiempo de ejecución: 484 milisegundos"
     ]
    },
    {
     "name": "stderr",
     "output_type": "stream",
     "text": [
      "real 0.48\n",
      "user 0.48\n",
      "sys 0.00\n"
     ]
    }
   ],
   "source": [
    "%%bash\n",
    "/usr/bin/time -p ./Rcf_c.out"
   ]
  },
  {
   "cell_type": "markdown",
   "metadata": {},
   "source": [
    "## R"
   ]
  },
  {
   "cell_type": "code",
   "execution_count": 8,
   "metadata": {},
   "outputs": [
    {
     "name": "stdout",
     "output_type": "stream",
     "text": [
      "Writing Rcf_R.R\n"
     ]
    }
   ],
   "source": [
    "%%file Rcf_R.R\n",
    "library(tictoc)\n",
    "Rcf<-function(f,a,b,n){\n",
    "    '\n",
    "    Compute numerical approximation using rectangle or mid-point\n",
    "    method in an interval.\n",
    "    \n",
    "    Nodes are generated via formula: x_i = a+(i+1/2)h_hat for\n",
    "    i=0,1,...,n-1 and h_hat=(b-a)/n\n",
    "    Args:\n",
    "    \n",
    "        f (float): function expression of integrand.\n",
    "        \n",
    "        a (float): left point of interval.\n",
    "        \n",
    "        b (float): right point of interval.\n",
    "        \n",
    "        n (float): number of subintervals.\n",
    "        \n",
    "    Returns:\n",
    "    \n",
    "        sum_res (float): numerical approximation to integral\n",
    "            of f in the interval a,b\n",
    "    '\n",
    "    \n",
    "    h_hat <- (b-a)/n\n",
    "    sum_res <- 0\n",
    "    for(i in 0:(n-1)){\n",
    "        x <- a + (i + 1/2)*h_hat\n",
    "        sum_res <- sum_res + f(x)\n",
    "    }\n",
    "    approx <- h_hat*sum_res\n",
    "}\n",
    "n <- 10**7\n",
    "f <- function(x)exp(-x^2)\n",
    "a <- 0\n",
    "b <- 1\n",
    "tic(\"Rcf tomó\")\n",
    "Rcf(f,a,b,n)\n",
    "toc()"
   ]
  },
  {
   "cell_type": "code",
   "execution_count": 9,
   "metadata": {},
   "outputs": [
    {
     "name": "stdout",
     "output_type": "stream",
     "text": [
      "Rcf tomó: 5.631 sec elapsed\n"
     ]
    }
   ],
   "source": [
    "%%bash\n",
    "Rscript Rcf_R.R"
   ]
  },
  {
   "cell_type": "code",
   "execution_count": 10,
   "metadata": {},
   "outputs": [
    {
     "name": "stdout",
     "output_type": "stream",
     "text": [
      "Rcf tomó: 5.617 sec elapsed\n"
     ]
    },
    {
     "name": "stderr",
     "output_type": "stream",
     "text": [
      "real 5.90\n",
      "user 7.25\n",
      "sys 3.18\n"
     ]
    }
   ],
   "source": [
    "%%bash\n",
    "/usr/bin/time -p Rscript Rcf_R.R"
   ]
  },
  {
   "cell_type": "markdown",
   "metadata": {},
   "source": [
    "## Julia"
   ]
  },
  {
   "cell_type": "code",
   "execution_count": 11,
   "metadata": {},
   "outputs": [
    {
     "name": "stdout",
     "output_type": "stream",
     "text": [
      "Writing Rcf_julia.jl\n"
     ]
    }
   ],
   "source": [
    "%%file Rcf_julia.jl\n",
    "\"\"\"\n",
    "Compute numerical approximation using rectangle or mid-point\n",
    "method in an interval.\n",
    "\n",
    "# Arguments\n",
    "\n",
    "- `f::Float`: function expression of integrand.\n",
    "- `a::Integer`: left point of interval.\n",
    "- `b::Integer`: right point of interval.\n",
    "- `n::Integer`: number of subintervals.\n",
    "\"\"\"\n",
    "function Rcf(f, a, b, n)\n",
    "    h_hat = (b-a)/n\n",
    "    sum_res = 0\n",
    "    for i in 0:n-1\n",
    "        x = a + (i + 1/2)*h_hat\n",
    "        sum_res += f(x)\n",
    "    end    \n",
    "    return h_hat*sum_res\n",
    "end\n",
    "function main()\n",
    "    a = 0\n",
    "    b = 1\n",
    "    n =10^7\n",
    "    f(x) = exp(-x^2)\n",
    "    @time Rcf(f, a, b, n)\n",
    "    @time Rcf(f, a, b, n)\n",
    "end\n",
    "\n",
    "main()"
   ]
  },
  {
   "cell_type": "code",
   "execution_count": 12,
   "metadata": {},
   "outputs": [
    {
     "name": "stdout",
     "output_type": "stream",
     "text": [
      "  0.229382 seconds\n",
      "  0.229341 seconds\n"
     ]
    }
   ],
   "source": [
    "%%bash\n",
    "/usr/local/julia-1.6.0/bin/julia Rcf_julia.jl"
   ]
  },
  {
   "cell_type": "code",
   "execution_count": 15,
   "metadata": {},
   "outputs": [
    {
     "name": "stdout",
     "output_type": "stream",
     "text": [
      "  0.231336 seconds\n",
      "  0.231395 seconds\n"
     ]
    },
    {
     "name": "stderr",
     "output_type": "stream",
     "text": [
      "real 0.73\n",
      "user 1.02\n",
      "sys 0.52\n"
     ]
    }
   ],
   "source": [
    "%%bash\n",
    "/usr/bin/time -p /usr/local/julia-1.6.0/bin/julia Rcf_julia.jl"
   ]
  },
  {
   "cell_type": "code",
   "execution_count": 16,
   "metadata": {},
   "outputs": [
    {
     "name": "stdout",
     "output_type": "stream",
     "text": [
      "Writing Rcf_julia_typed_values.jl\n"
     ]
    }
   ],
   "source": [
    "%%file Rcf_julia_typed_values.jl\n",
    "\"\"\"\n",
    "Compute numerical approximation using rectangle or mid-point\n",
    "method in an interval.\n",
    "\n",
    "# Arguments\n",
    "\n",
    "- `f::Float`: function expression of integrand.\n",
    "- `a::Integer`: left point of interval.\n",
    "- `b::Integer`: right point of interval.\n",
    "- `n::Integer`: number of subintervals.\n",
    "\"\"\"\n",
    "function Rcf(f, a, b, n)\n",
    "    h_hat = (b-a)/n\n",
    "    sum_res = 0.0\n",
    "    for i in 0:n-1\n",
    "        x = a + (i + 1/2)*h_hat\n",
    "        sum_res += f(x)\n",
    "    end    \n",
    "    return h_hat*sum_res\n",
    "end\n",
    "function main()\n",
    "    a = 0\n",
    "    b = 1\n",
    "    n =10^7\n",
    "    f(x) = exp(-x^2)\n",
    "    @time Rcf(f, a, b, n)\n",
    "    @time Rcf(f, a, b, n)    \n",
    "end\n",
    "\n",
    "main()"
   ]
  },
  {
   "cell_type": "code",
   "execution_count": 18,
   "metadata": {},
   "outputs": [
    {
     "name": "stdout",
     "output_type": "stream",
     "text": [
      "  0.093318 seconds\n",
      "  0.093515 seconds\n"
     ]
    }
   ],
   "source": [
    "%%bash\n",
    "/usr/local/julia-1.6.0/bin/julia Rcf_julia_typed_values.jl"
   ]
  },
  {
   "cell_type": "code",
   "execution_count": 19,
   "metadata": {},
   "outputs": [
    {
     "name": "stdout",
     "output_type": "stream",
     "text": [
      "  0.094106 seconds\n",
      "  0.094506 seconds\n"
     ]
    },
    {
     "name": "stderr",
     "output_type": "stream",
     "text": [
      "real 0.46\n",
      "user 0.75\n",
      "sys 0.52\n"
     ]
    }
   ],
   "source": [
    "%%bash\n",
    "/usr/bin/time -p /usr/local/julia-1.6.0/bin/julia Rcf_julia_typed_values.jl"
   ]
  }
 ],
 "metadata": {
  "kernelspec": {
   "display_name": "Python 3",
   "language": "python",
   "name": "python3"
  },
  "language_info": {
   "codemirror_mode": {
    "name": "ipython",
    "version": 3
   },
   "file_extension": ".py",
   "mimetype": "text/x-python",
   "name": "python",
   "nbconvert_exporter": "python",
   "pygments_lexer": "ipython3",
   "version": "3.7.3"
  }
 },
 "nbformat": 4,
 "nbformat_minor": 4
}
